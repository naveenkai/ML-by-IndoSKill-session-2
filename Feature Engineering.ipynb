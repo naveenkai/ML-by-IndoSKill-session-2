{
 "cells": [
  {
   "cell_type": "code",
   "execution_count": 1,
   "id": "501c88a6",
   "metadata": {},
   "outputs": [],
   "source": [
    "import pandas as pd\n",
    "import numpy as np\n",
    "import matplotlib.pyplot as plt\n",
    "import seaborn as sns"
   ]
  },
  {
   "cell_type": "code",
   "execution_count": 2,
   "id": "5d406a37",
   "metadata": {},
   "outputs": [],
   "source": [
    "## Feature Engineering\n",
    "\n",
    "# Feature - all the inputs\n",
    "# converting dataset into most valuable\n",
    "\n",
    "# eliminate unnecessary features\n",
    "\n",
    "### process of using domain knowledge to extract features from raw data"
   ]
  },
  {
   "cell_type": "markdown",
   "id": "7b1f929e",
   "metadata": {},
   "source": [
    "# Feature engineering\n",
    "\n",
    "### Feature transformation\n",
    "### Feature Construction\n",
    "### Feature Selection\n",
    "### Feature Extraction"
   ]
  },
  {
   "cell_type": "code",
   "execution_count": 3,
   "id": "27749e10",
   "metadata": {},
   "outputs": [],
   "source": [
    "## feature selection -- selecting no. features (80 out of 100)\n",
    "## feature extraction -- selecting propriate feature\n"
   ]
  },
  {
   "cell_type": "markdown",
   "id": "627e5ed5",
   "metadata": {},
   "source": [
    "## 1.Feature Transformation\n",
    "\n",
    "### Data Cleaing\n",
    "### Decomposing & Binning\n",
    "### Outlier detection\n",
    "### Encoding\n",
    "### Feature Scaling"
   ]
  },
  {
   "cell_type": "markdown",
   "id": "1b2cb928",
   "metadata": {},
   "source": [
    "## Handling Categorical & Numerical Features:"
   ]
  },
  {
   "cell_type": "code",
   "execution_count": 4,
   "id": "bd31f0d5",
   "metadata": {},
   "outputs": [],
   "source": [
    "## Removing unnecessary columns from dataset\n",
    "\n",
    "## Decompsoing categorical features\n",
    "\n",
    "## Binning numerical features"
   ]
  },
  {
   "cell_type": "code",
   "execution_count": null,
   "id": "3aac249b",
   "metadata": {},
   "outputs": [],
   "source": []
  }
 ],
 "metadata": {
  "kernelspec": {
   "display_name": "Python 3 (ipykernel)",
   "language": "python",
   "name": "python3"
  },
  "language_info": {
   "codemirror_mode": {
    "name": "ipython",
    "version": 3
   },
   "file_extension": ".py",
   "mimetype": "text/x-python",
   "name": "python",
   "nbconvert_exporter": "python",
   "pygments_lexer": "ipython3",
   "version": "3.9.13"
  }
 },
 "nbformat": 4,
 "nbformat_minor": 5
}
